{
 "cells": [
  {
   "cell_type": "markdown",
   "metadata": {},
   "source": [
    "# 在不同的计算设备之间迁移\n",
    "\n",
    "通过 Tensor 的 `device` 属性，我们可以查询当前其所在的设备。Tensor 可以位于不同 `device`，这根据当前的环境决定：\n",
    "- 一般地，如果在创建 Tensor 时不指定 `device`，其 `device` 属性默认为 `xpux`，表示当前任意一个可用的设备；\n",
    "- MegEngine 在 GPU 和 CPU 同时存在时默认使用 GPU 进行训练，GPU 在浮点运算和并行运算上有着巨大的优势。"
   ]
  },
  {
   "cell_type": "code",
   "execution_count": 1,
   "metadata": {},
   "outputs": [
    {
     "name": "stdout",
     "output_type": "stream",
     "text": [
      "xpux:0\n"
     ]
    }
   ],
   "source": [
    "import megengine as mge\n",
    "\n",
    "mge_tensor = mge.tensor([1., 2., 3.])\n",
    "print(mge_tensor.device)"
   ]
  },
  {
   "cell_type": "markdown",
   "metadata": {},
   "source": [
    "你也可以在创建 Tensor 时，指定 `device` 为 cpu0, cpu1, …, gpu0, gpu1, … ，也可以是 cpux 或 gpux，表示当前任意一个可用的 CPU 或 GPU。\n",
    "\n",
    "通过 `to()` 方法可以在另一个 `device` 上生成当前 Tensor 的拷贝，比如我们将刚刚创建的 Tensor 迁移到 CPU 上，再迁移到 GPU 上："
   ]
  },
  {
   "cell_type": "code",
   "execution_count": 2,
   "metadata": {},
   "outputs": [
    {
     "name": "stdout",
     "output_type": "stream",
     "text": [
      "cpu0:0\n",
      "gpu0:0\n",
      "xpu0:0\n"
     ]
    }
   ],
   "source": [
    "cpu_tensor = mge_tensor.to(\"cpu0\")\n",
    "print(cpu_tensor.device)\n",
    "\n",
    "gpu_tensor = mge_tensor.to(\"gpu0\") # 如没有 GPU 则会报错\n",
    "print(gpu_tensor.device)\n",
    "\n",
    "xpu_tensor = mge_tensor.to(\"xpu0\")\n",
    "print(xpu_tensor.device)"
   ]
  },
  {
   "cell_type": "markdown",
   "metadata": {},
   "source": [
    "用户可以调用 `set_default_device()` 来根据自身需求设置默认计算设备，用 `get_default_device()` 查看："
   ]
  },
  {
   "cell_type": "code",
   "execution_count": 3,
   "metadata": {},
   "outputs": [
    {
     "name": "stdout",
     "output_type": "stream",
     "text": [
      "cpux\n",
      "gpux\n"
     ]
    }
   ],
   "source": [
    "# 默认使用 CPU\n",
    "mge.set_default_device('cpux')\n",
    "print(mge.get_default_device())\n",
    "\n",
    "# 默认使用 GPU\n",
    "mge.set_default_device('gpux')\n",
    "print(mge.get_default_device())"
   ]
  },
  {
   "cell_type": "markdown",
   "metadata": {},
   "source": [
    "如果不想修改代码，也可通过环境变量 `MGE_DEFAULT_DEVICE` 来设置默认计算设备，比如：\n",
    "\n",
    "```shell\n",
    "# 默认使用 CPU\n",
    "export MGE_DEFAULT_DEVICE='cpux'\n",
    "\n",
    "# 默认使用 GPU\n",
    "export MGE_DEFAULT_DEVICE='gpux'\n",
    "```"
   ]
  }
 ],
 "metadata": {
  "kernelspec": {
   "display_name": "GPU",
   "language": "python",
   "name": "gpu"
  },
  "language_info": {
   "codemirror_mode": {
    "name": "ipython",
    "version": 3
   },
   "file_extension": ".py",
   "mimetype": "text/x-python",
   "name": "python",
   "nbconvert_exporter": "python",
   "pygments_lexer": "ipython3",
   "version": "3.6.9"
  }
 },
 "nbformat": 4,
 "nbformat_minor": 4
}
