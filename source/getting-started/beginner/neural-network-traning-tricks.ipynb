{
 "cells": [
  {
   "cell_type": "markdown",
   "id": "european-sport",
   "metadata": {},
   "source": [
    "# 神经网络训练技巧\n",
    "\n",
    "| ![](../../_static/logo/megvii-32.svg) [在 MegStudio 运行](https://studio.brainpp.com/project/#) | ![](../../_static/logo/github-32.svg) [查看源文件](https://github.com/MegEngine/Documentation/blob/main/source/getting-started/beginner/neural-network-traning-tricks.ipynb) |\n",
    "| --- | --- |\n",
    "\n",
    "通过引入（卷积）神经网络模型，我们在 CIFAR-10 图片分类任务上已经能够达到 50% 左右的分类准确率。但是，探索从未停止！\n",
    "\n",
    "在本次的教程中，我们会接触到神经网络模型训练过程中的常见技巧，并尝试对其原理做出一定的解释。\n",
    "\n",
    "请先运行下面的代码，检验你的环境中是否已经安装好 MegEngine（[访问官网安装教程](https://megengine.org.cn/install)）："
   ]
  },
  {
   "cell_type": "code",
   "execution_count": 8,
   "id": "parallel-replica",
   "metadata": {},
   "outputs": [
    {
     "name": "stdout",
     "output_type": "stream",
     "text": [
      "1.4.0\n"
     ]
    }
   ],
   "source": [
    "import megengine\n",
    "\n",
    "print(megengine.__version__)"
   ]
  },
  {
   "cell_type": "markdown",
   "id": "pharmaceutical-generation",
   "metadata": {},
   "source": [
    "我们需要回顾一下我们之前实现的 LeNet 模型训练过程，不过这次我们稍微整理了一下代码："
   ]
  },
  {
   "cell_type": "code",
   "execution_count": 9,
   "id": "union-annual",
   "metadata": {},
   "outputs": [],
   "source": []
  },
  {
   "cell_type": "code",
   "execution_count": 10,
   "id": "regulated-strategy",
   "metadata": {},
   "outputs": [
    {
     "name": "stdout",
     "output_type": "stream",
     "text": [
      "epoch = 0, loss = 0.034\n",
      "epoch = 10, loss = 0.017\n",
      "epoch = 20, loss = 0.014\n",
      "epoch = 30, loss = 0.012\n",
      "epoch = 40, loss = 0.012\n"
     ]
    }
   ],
   "source": []
  },
  {
   "cell_type": "code",
   "execution_count": 11,
   "id": "satisfactory-reunion",
   "metadata": {},
   "outputs": [
    {
     "name": "stdout",
     "output_type": "stream",
     "text": [
      "Accuracy = 0.510\n"
     ]
    }
   ],
   "source": []
  },
  {
   "cell_type": "markdown",
   "id": "electrical-wells",
   "metadata": {},
   "source": [
    "## 数据预处理"
   ]
  },
  {
   "cell_type": "markdown",
   "id": "ambient-sense",
   "metadata": {},
   "source": [
    "## 权重初始化"
   ]
  },
  {
   "cell_type": "markdown",
   "id": "hairy-programmer",
   "metadata": {},
   "source": [
    "## 激活函数"
   ]
  },
  {
   "cell_type": "markdown",
   "id": "grand-samuel",
   "metadata": {},
   "source": [
    "## 正则化"
   ]
  },
  {
   "cell_type": "markdown",
   "id": "other-district",
   "metadata": {},
   "source": [
    "## 批归一化"
   ]
  },
  {
   "cell_type": "markdown",
   "id": "major-coverage",
   "metadata": {},
   "source": [
    "## 参数更新策略"
   ]
  },
  {
   "cell_type": "markdown",
   "id": "modular-restriction",
   "metadata": {},
   "source": [
    "## 学习率调整"
   ]
  },
  {
   "cell_type": "markdown",
   "id": "athletic-boston",
   "metadata": {},
   "source": [
    "## 迁移学习"
   ]
  },
  {
   "cell_type": "markdown",
   "id": "fourth-savings",
   "metadata": {},
   "source": [
    "## "
   ]
  },
  {
   "cell_type": "code",
   "execution_count": null,
   "id": "focal-blogger",
   "metadata": {},
   "outputs": [],
   "source": []
  }
 ],
 "metadata": {
  "kernelspec": {
   "display_name": "GPU",
   "language": "python",
   "name": "gpu"
  },
  "language_info": {
   "codemirror_mode": {
    "name": "ipython",
    "version": 3
   },
   "file_extension": ".py",
   "mimetype": "text/x-python",
   "name": "python",
   "nbconvert_exporter": "python",
   "pygments_lexer": "ipython3",
   "version": "3.7.5"
  }
 },
 "nbformat": 4,
 "nbformat_minor": 5
}
