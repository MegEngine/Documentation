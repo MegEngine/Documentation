{
 "cells": [
  {
   "cell_type": "markdown",
   "id": "editorial-nation",
   "metadata": {},
   "source": [
    "# 神经网络训练技巧\n",
    "\n",
    "| ![](../../_static/logo/megvii-32.svg) [在 MegStudio 运行](https://studio.brainpp.com/project/#) | ![](../../_static/logo/github-32.svg) [查看源文件](https://github.com/MegEngine/Documentation/blob/main/source/getting-started/beginner/neural-network-traning-tricks.ipynb) |\n",
    "| --- | --- |\n",
    "\n",
    "通过引入（卷积）神经网络模型，我们在 CIFAR-10 图片分类任务上已经能够达到 50% 左右的分类准确率。但是，探索从未停止！\n",
    "\n",
    "在本次的教程中，我们会接触到神经网络模型训练过程中的常见技巧，并尝试对其原理做出一定的解释。\n",
    "\n",
    "请先运行下面的代码，检验你的环境中是否已经安装好 MegEngine（[访问官网安装教程](https://megengine.org.cn/install)）："
   ]
  },
  {
   "cell_type": "code",
   "execution_count": 8,
   "id": "institutional-fighter",
   "metadata": {},
   "outputs": [
    {
     "name": "stdout",
     "output_type": "stream",
     "text": [
      "1.4.0\n"
     ]
    }
   ],
   "source": [
    "import megengine\n",
    "\n",
    "print(megengine.__version__)"
   ]
  },
  {
   "cell_type": "markdown",
   "id": "worldwide-annotation",
   "metadata": {},
   "source": [
    "## 数据预处理"
   ]
  },
  {
   "cell_type": "markdown",
   "id": "pregnant-group",
   "metadata": {},
   "source": [
    "## 权重初始化"
   ]
  },
  {
   "cell_type": "markdown",
   "id": "thrown-dollar",
   "metadata": {},
   "source": [
    "## 激活函数"
   ]
  },
  {
   "cell_type": "markdown",
   "id": "available-cigarette",
   "metadata": {},
   "source": [
    "## 损失函数"
   ]
  },
  {
   "cell_type": "markdown",
   "id": "roman-waste",
   "metadata": {},
   "source": [
    "### 正则化"
   ]
  },
  {
   "cell_type": "markdown",
   "id": "czech-attraction",
   "metadata": {},
   "source": [
    "## 批归一化"
   ]
  },
  {
   "cell_type": "markdown",
   "id": "urban-queue",
   "metadata": {},
   "source": [
    "## 参数更新策略"
   ]
  },
  {
   "cell_type": "markdown",
   "id": "clean-extraction",
   "metadata": {},
   "source": [
    "## 学习率调整"
   ]
  },
  {
   "cell_type": "markdown",
   "id": "palestinian-merchandise",
   "metadata": {},
   "source": [
    "## 使用预训练模型"
   ]
  },
  {
   "cell_type": "markdown",
   "id": "excess-thursday",
   "metadata": {},
   "source": [
    "## 迁移学习"
   ]
  }
 ],
 "metadata": {
  "kernelspec": {
   "display_name": "GPU",
   "language": "python",
   "name": "gpu"
  },
  "language_info": {
   "codemirror_mode": {
    "name": "ipython",
    "version": 3
   },
   "file_extension": ".py",
   "mimetype": "text/x-python",
   "name": "python",
   "nbconvert_exporter": "python",
   "pygments_lexer": "ipython3",
   "version": "3.7.5"
  }
 },
 "nbformat": 4,
 "nbformat_minor": 5
}
